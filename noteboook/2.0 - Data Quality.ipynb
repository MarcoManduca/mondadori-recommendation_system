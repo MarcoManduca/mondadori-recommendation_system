{
 "cells": [
  {
   "cell_type": "markdown",
   "metadata": {},
   "source": [
    "# 2.0 - Data Quality"
   ]
  },
  {
   "cell_type": "code",
   "execution_count": null,
   "metadata": {},
   "outputs": [],
   "source": [
    "# import\n",
    "import os\n",
    "import json\n",
    "from openai import OpenAI\n",
    "MODEL = os.getenv('MODEL')\n",
    "API_KEY = os.getenv('CHATGPT_TOKEN')\n",
    "iter = 13300 # to do\n",
    "\n",
    "#failed: 27100, 27000, 26900, 26700, 26600, 26500\n",
    "#failed: 26400, 26300, 26000, 25900, 25800, 25700, 25500, 25400, 25200, 25100, 25000, 24900, 24800, 24700, 24600\n",
    "#failed: 24500, 24400, 24200, 24100, 24000, 23900, 23800, 23700, 23600, 23500, 23400, 23300, 23200, 23100, 23000,\n",
    "#failed: 22900, 22800, 22700, 22600, 22500, 22400, 22300, 22200, 21900, 21800, 21700, 21600, 21500"
   ]
  },
  {
   "cell_type": "code",
   "execution_count": 113,
   "metadata": {},
   "outputs": [],
   "source": [
    "# setup\n",
    "client = OpenAI(api_key=API_KEY) #initialize the OpenAI client"
   ]
  },
  {
   "cell_type": "code",
   "execution_count": null,
   "metadata": {},
   "outputs": [],
   "source": [
    "# check currently active batch process\n",
    "#[el for el in client.batches.list() if el.status == 'in_progress']"
   ]
  },
  {
   "cell_type": "markdown",
   "metadata": {},
   "source": [
    "---"
   ]
  },
  {
   "cell_type": "markdown",
   "metadata": {},
   "source": [
    "##### OpenAI documentation: https://platform.openai.com/docs/guides/batch?lang=python"
   ]
  },
  {
   "cell_type": "code",
   "execution_count": 114,
   "metadata": {},
   "outputs": [],
   "source": [
    "#define batch input file\n",
    "batch_input_file = client.files.create(\n",
    "    file = open(f'../data/processed/requests/requests_{iter}.jsonl', 'rb'),\n",
    "    purpose = 'batch'\n",
    ")"
   ]
  },
  {
   "cell_type": "code",
   "execution_count": 115,
   "metadata": {},
   "outputs": [],
   "source": [
    "batch_input_file_id = batch_input_file.id\n",
    "# create the batch process\n",
    "batch_object = client.batches.create(\n",
    "    input_file_id = batch_input_file_id,\n",
    "    endpoint = '/v1/chat/completions',\n",
    "    completion_window = '24h',\n",
    "    metadata = {\n",
    "        'description': 'nightly eval job'\n",
    "    }\n",
    ")\n",
    "batch_object_id = batch_object.id\n",
    "with open(f'../.env', 'a') as f:\n",
    "    f.write(f\"BATCH_PROCESS_ID_{iter} = '{batch_object.id}'\\n\")\n",
    "    f.close()\n",
    "#print(f\"BATCH_PROCESS_ID_{iter} = '{batch_object.id}'\")"
   ]
  },
  {
   "cell_type": "markdown",
   "metadata": {},
   "source": [
    "---"
   ]
  },
  {
   "cell_type": "markdown",
   "metadata": {},
   "source": [
    "batch_object_id = os.getenv(f'BATCH_PROCESS_ID_{iter}')\n",
    "batch_object_id = batch_object.id if batch_object else batch_object_id\n",
    "batch_object_id"
   ]
  },
  {
   "cell_type": "code",
   "execution_count": 119,
   "metadata": {},
   "outputs": [
    {
     "name": "stdout",
     "output_type": "stream",
     "text": [
      "Batch Object id: batch_67c87bf362348190b127a1632360eaa5\n",
      "Status: completed - BatchRequestCounts(completed=100, failed=0, total=100)\n",
      "Batch file: file-4cPnSZdYPxyPxwhqW9rseE\n"
     ]
    }
   ],
   "source": [
    "# retrieve data from batch process\n",
    "batch = client.batches.retrieve(batch_object.id)\n",
    "print(f'Batch Object id: {batch.id}')\n",
    "print(f'Status: {batch.status} - {batch.request_counts}')\n",
    "print(f'Batch file: {batch.output_file_id}')"
   ]
  },
  {
   "cell_type": "code",
   "execution_count": 120,
   "metadata": {},
   "outputs": [],
   "source": [
    "# get the output file\n",
    "file_response = client.files.content(batch.output_file_id)"
   ]
  },
  {
   "cell_type": "code",
   "execution_count": 121,
   "metadata": {},
   "outputs": [],
   "source": [
    "# save results to a jsonl file\n",
    "json_list = list()\n",
    "with open(f'../data/processed/responses/responses_{iter}.jsonl', 'w') as f:\n",
    "    for response in [x for x in file_response.text.split('\\n') if x]:\n",
    "        json.dump(json.loads(response), f)\n",
    "        json_file = json.loads(response)\n",
    "        current_json = {\n",
    "            'text' : json_file['response']['body']['choices'][0]['message']['content'],\n",
    "            'doc_id' : json_file['custom_id']\n",
    "        }\n",
    "        json_list.append(current_json.copy())\n",
    "        f.write('\\n')"
   ]
  }
 ],
 "metadata": {
  "kernelspec": {
   "display_name": "ai",
   "language": "python",
   "name": "python3"
  },
  "language_info": {
   "codemirror_mode": {
    "name": "ipython",
    "version": 3
   },
   "file_extension": ".py",
   "mimetype": "text/x-python",
   "name": "python",
   "nbconvert_exporter": "python",
   "pygments_lexer": "ipython3",
   "version": "3.11.5"
  }
 },
 "nbformat": 4,
 "nbformat_minor": 2
}
