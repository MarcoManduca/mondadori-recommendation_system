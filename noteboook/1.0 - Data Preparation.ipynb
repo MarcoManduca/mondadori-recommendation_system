{
 "cells": [
  {
   "cell_type": "markdown",
   "metadata": {},
   "source": [
    "# 1.0 - Data Preparation"
   ]
  },
  {
   "cell_type": "code",
   "execution_count": 1,
   "metadata": {},
   "outputs": [],
   "source": [
    "# import\n",
    "import re\n",
    "import os\n",
    "import json\n",
    "import pandas as pd\n",
    "\n",
    "# setup\n",
    "input_dir = '../data/raw'"
   ]
  },
  {
   "cell_type": "code",
   "execution_count": 2,
   "metadata": {},
   "outputs": [],
   "source": [
    "df = pd.DataFrame()\n",
    "# read ndjson data\n",
    "for _file in os.listdir(input_dir):\n",
    "    temp_df = pd.read_json(os.path.join(input_dir, _file), lines = True)\n",
    "    df = pd.concat([df, temp_df]).reset_index()"
   ]
  },
  {
   "cell_type": "code",
   "execution_count": 5,
   "metadata": {},
   "outputs": [
    {
     "data": {
      "text/plain": [
       "'[{\"category_id\": \"83\", \"category_url\": \"donna-e-mamma\", \"category_base\": true, \"category_name\": \"Donna e Mamma\", \"category_assigned\": true}]'"
      ]
     },
     "execution_count": 5,
     "metadata": {},
     "output_type": "execute_result"
    }
   ],
   "source": [
    "df['object_post_category'][0]"
   ]
  },
  {
   "cell_type": "code",
   "execution_count": 3,
   "metadata": {},
   "outputs": [],
   "source": [
    "# remove new lines and spaces at the start and the end of the text (remove empty texts)\n",
    "df['object_text'] = df['object_text'].str.strip()\n",
    "df = df[df['object_text'] != '']\n",
    "df.reset_index(drop = True, inplace = True)"
   ]
  },
  {
   "cell_type": "code",
   "execution_count": 4,
   "metadata": {},
   "outputs": [],
   "source": [
    "df['object_post_category_list'] = df['object_post_category'].apply(json.loads)"
   ]
  },
  {
   "cell_type": "code",
   "execution_count": 5,
   "metadata": {},
   "outputs": [],
   "source": [
    "def extract_topics(row):\n",
    "    topics = []\n",
    "    for topic in row['object_post_category_list']:\n",
    "        topics.append(re.sub(r'www\\.[a-z]*\\.?(it|com)/', '', topic['category_url']))\n",
    "    return topics"
   ]
  },
  {
   "cell_type": "code",
   "execution_count": 6,
   "metadata": {},
   "outputs": [],
   "source": [
    "topics_mapped = {\n",
    "    'il-bambino' : 'bambino',\n",
    "    'famiglia' : 'famiglia',\n",
    "    'bambino' : 'bambino',\n",
    "    'gravidanza' : 'gravidanza',\n",
    "    'costume' : 'viaggi',\n",
    "    'neonato' : 'neonato',\n",
    "    'la-famiglia' : 'famiglia',\n",
    "    'sviluppo-e-crescita' : 'crescita',\n",
    "    'salute' : 'salute',\n",
    "    'feste' : 'feste',\n",
    "    'istruzione' : 'istruzione',\n",
    "    'giochi' : 'giochi',\n",
    "    'giocare-e-crescere' : 'crescita',\n",
    "    'malattie' : 'malattie',\n",
    "    'rimanere-incinta' : 'gravidanza',\n",
    "    'bimbi-in-viaggio' : 'viaggi',\n",
    "    'salute-e-benessere' : 'salute',\n",
    "    'ricette' : 'alimentazione',\n",
    "    'psicologia' : 'psicologia',\n",
    "    'parto' : 'gravidanza',\n",
    "    'donna-e-mamma' : 'mamma',\n",
    "    'shopping' : 'shopping',\n",
    "    'il-bimbo-nella-societa' : 'bambino',\n",
    "    'tempo-libero' : 'tempo libero',\n",
    "    'cura-e-salute' : 'salute',\n",
    "    'nido-asilo-e-scuola' : 'crescita',\n",
    "    'concepimento' : 'gravidanza',\n",
    "    'sport-e-tempo-libero' : 'sport',\n",
    "    'nomi' : 'nomi',\n",
    "    'diventare-mamma-la-famiglia' : 'gravidanza',\n",
    "    'natale' : 'feste',\n",
    "    'oroscopo' : 'oroscopo',\n",
    "    'trasporto-e-viaggi' : 'viaggi',\n",
    "    'bonus' : 'bonus',\n",
    "    'post-parto' : 'gravidanza',\n",
    "    'alimentazione' : 'alimentazione',\n",
    "    'adolescenza' : 'crescita',\n",
    "    'allattamento' : 'alimentazione',\n",
    "    'nomi-per-bambini' : 'nomi',\n",
    "    'filastrocche' : 'tempo libero',\n",
    "    'gravidanza-curiosita' : 'gravidanza',\n",
    "    'soldi-e-lavoro' : 'lavoro',\n",
    "    'lavoretti' : 'lavoro',\n",
    "    'moda-e-bellezza' : 'abbigliamento',\n",
    "    'svezzamento' : 'alimentazione',\n",
    "    'la-coppia' : 'famiglia',\n",
    "    'fertilita-ed-infertilita' : 'gravidanza',\n",
    "    'allattamento-il-bambino' : 'alimentazione',\n",
    "    'corpo-che-cambia' : 'crescita',\n",
    "    'gravidanza-a-rischio' : 'gravidanza',\n",
    "    'pappe' : 'alimentazione',\n",
    "    'pianto-e-sonno-il-bambino' : 'bambino',\n",
    "    'video' : 'video',\n",
    "    'disturbi-in-gravidanza' : 'gravidanza',\n",
    "    'nanna' : 'crescita',\n",
    "    'la-famiglia-si-allarga' : 'famiglia',\n",
    "    'partorire-parto' : 'gravidanza',\n",
    "    'diventare-papa-la-famiglia' : 'famiglia',\n",
    "    'feste-di-compleanno' : 'feste',\n",
    "    'attrezzatura' : 'lavoro',\n",
    "    'igiene' : 'salute',\n",
    "    'pasqua' : 'feste',\n",
    "    'sessualita-e-corpo' : 'crescita',\n",
    "    'papa' : 'uomo',\n",
    "    'concepimento-rimanere-incinta' : 'gravidanza',\n",
    "    'i-consigli-della-tata' : 'crescita',\n",
    "    'mangiare-in-gravidanza' : 'alimentazione',\n",
    "    'sport' : 'sport',\n",
    "    'diagnosi-prenatale' : 'gravidanza',\n",
    "    'nonni-e-altri-parenti' : 'famiglia',\n",
    "    'analisi-in-gravidanza' : 'gravidanza',\n",
    "    'abbigliamento' : 'abbigliamento',\n",
    "    'feto' : 'gravidanza',\n",
    "    'ambiente' : 'ambiente',\n",
    "    'preparazione-al-parto' : 'gravidanza',\n",
    "    'carnevale' : 'feste',\n",
    "    'halloween' : 'feste',\n",
    "    'racconti-parto' : 'gravidanza',\n",
    "    'casa' : 'casa',\n",
    "    'animali-domestici' : 'animali',\n",
    "    'partner' : 'famiglia',\n",
    "    'guide' : 'guide',\n",
    "    'pubblicita-per-bambini' : 'bambino',\n",
    "    'prematuro' : 'gravidanza',\n",
    "    'focuspico' : 'tempo libero',\n",
    "    'festa-mamma' : 'feste',\n",
    "    'in-europa-con-i-bambini' : 'viaggi',\n",
    "    'favole' : 'tempo libero',\n",
    "    'sono-incinta' : 'gravidanza',\n",
    "    'vestirsi-in-gravidanza' : 'gravidanza',\n",
    "    'angoli-libri-il-bambino' : 'tempo libero',\n",
    "    'test-e-quiz' : 'tempo libero',\n",
    "    'matrimonio' : 'famiglia',\n",
    "    'separazione-e-divorzio' : 'famiglia',\n",
    "    'musica-per-bambini' : 'tempo libero',\n",
    "    'adozione' : 'adozione',\n",
    "    'travaglio-parto' : 'gravidanza',\n",
    "    'san-valentino' : 'feste',\n",
    "    'lavoro-e-gravidanza' : 'lavoro',\n",
    "    'in-alto-adige-con-i-bambini' : 'viaggi',\n",
    "    'in-toscana-con-i-bambini' : 'viaggi',\n",
    "    'in-trentino-con-i-bambini' : 'viaggi',\n",
    "    'giochi-per-neonati' : 'giochi',\n",
    "    'dalla-rete' : 'news',\n",
    "    'festa-del-papa' : 'feste',\n",
    "    'in-sicilia-con-i-bambini' : 'viaggi',\n",
    "    'in-campania-con-i-bambini' : 'viaggi',\n",
    "    'giorni-fertili' : 'gravidanza',\n",
    "    'in-lombardia-con-i-bambini' : 'viaggi',\n",
    "    'in-liguria-con-i-bambini' : 'viaggi',\n",
    "    'diario-gravidanza' : 'gravidanza',\n",
    "    'pianto' : 'neonato',\n",
    "    'nel-veneto-con-i-bambini' : 'viaggi',\n",
    "    'in-puglia-con-i-bambini' : 'viaggi',\n",
    "    'in-sardegna-con-i-bambini' : 'viaggi',\n",
    "    'battesimo' : 'religione',\n",
    "    'in-piemonte-con-i-bambini' : 'viaggi',\n",
    "    'pre-travaglio' : 'gravidanza',\n",
    "    'speciale-prevenzione-airc' : 'salute',\n",
    "    'spazio-alla-vita' : '',\n",
    "    'nel-lazio-con-i-bambini' : 'viaggi',\n",
    "    'frasi-per-la-nascita' : 'gravidanza',\n",
    "    'video-gravidanza' : 'video',\n",
    "    'calendario-ovulazione' : 'gravidanza',\n",
    "    'angolo-libri-gravidanza' : 'gravidanza',\n",
    "    'in-emilia-romagna-con-i-bambini' : 'viaggi',\n",
    "    'in-friuli-vg-con-i-bambini' : 'viaggi',\n",
    "    'ricette-bambini' : 'alimentazione',\n",
    "    'in-basilicata-con-i-bambini' : 'viaggi',\n",
    "    'emozione-essere-mamma' : 'mamma',\n",
    "    'notizie-cronaca' : 'news',\n",
    "    'in-umbria-con-i-bambini' : 'viaggi',\n",
    "    'igiene-bambini' : '',\n",
    "    'in-valle-d-aosta-con-i-bambini' : 'viaggi',\n",
    "    'viaggiare-in-gravidanza' : 'viaggi',\n",
    "    'video-parto-naturale' : 'video',\n",
    "    'festa-della-mamma' : 'feste',\n",
    "    'musica-per-il-neonato' : 'tempo libero',\n",
    "    'in-calabria-con-i-bambini' : 'viaggi',\n",
    "    'in-abruzzo-con-i-bambini' : 'viaggi',\n",
    "    'adv_home' : '',\n",
    "    'bambini-e-alimentazione' : 'alimentazione',\n",
    "    'baby-oroscopo' : 'oroscopo',\n",
    "    'nelle-marche-con-i-bambini' : 'viaggi',\n",
    "    'speciale-vitamine-b-betotal' : 'salute',\n",
    "    'speciale_natale' : 'feste',\n",
    "    'torte-decorate' : 'alimentazione',\n",
    "    'NiveaSun' : 'shopping',\n",
    "    'tools' : 'shopping',\n",
    "    'abbigliamento-bambini' : 'abbigliamento',\n",
    "    'speciale-halloween' : 'feste',\n",
    "    'speciale-abbigliamento' : 'abbigliamento',\n",
    "    'primo-mese' : 'crescita',\n",
    "    'kelloggs' : 'alimentazione',\n",
    "    'in-molise-con-i-bambini' : 'viaggi',\n",
    "    'coppia' : 'famiglia',\n",
    "    'bagnetto-pappa-carrefour' : 'crescita',\n",
    "    'consigli-medici' : 'salute',\n",
    "    'scegli-il-nome-per-il-tuo-bambino' : 'nomi',\n",
    "    'articoli' : 'shopping',\n",
    "    'video-canzoni-dedicate-ai-figli' : 'video',\n",
    "    'video-gallery' : 'video'\n",
    "}"
   ]
  },
  {
   "cell_type": "code",
   "execution_count": 7,
   "metadata": {},
   "outputs": [],
   "source": [
    "def redefine_topics(topics, topics_mapped):\n",
    "    new_topic = []\n",
    "    for topic in topics:\n",
    "        if topics_mapped[topic] not in new_topic:\n",
    "            new_topic.append(topics_mapped[topic])\n",
    "    return new_topic"
   ]
  },
  {
   "cell_type": "code",
   "execution_count": 8,
   "metadata": {},
   "outputs": [],
   "source": [
    "# extract topics from the tags (url_category)\n",
    "df['topics'] = df.apply(lambda row: extract_topics(row), axis = 1)\n",
    "df['topics'] = df['topics'].apply(lambda topics: redefine_topics(topics, topics_mapped))"
   ]
  },
  {
   "cell_type": "code",
   "execution_count": 10,
   "metadata": {},
   "outputs": [],
   "source": [
    "# define row id\n",
    "df['id'] = df['object_id']"
   ]
  },
  {
   "cell_type": "markdown",
   "metadata": {},
   "source": [
    "#define index to reference older index and data\n",
    "df['index'] = df.index\n",
    "df['index'] = df['index'].apply(str)\n",
    "df['index'] = 'doc_' + df['index']"
   ]
  },
  {
   "cell_type": "code",
   "execution_count": 11,
   "metadata": {},
   "outputs": [],
   "source": [
    "def save_requests(df:pd.DataFrame, iter:int, folder:str) -> None:\n",
    "    # define json structure for requests towards OpenAI API\n",
    "    json_list = list()\n",
    "    json_requests = {\n",
    "        'method' : 'POST',\n",
    "        'url' : '/v1/chat/completions'\n",
    "    }\n",
    "\n",
    "    MODEL = os.getenv('MODEL')\n",
    "\n",
    "    for index, row in df.iterrows():\n",
    "        json_requests['custom_id'] = row['id']\n",
    "        json_requests['body'] = {\n",
    "            \"model\": MODEL,\n",
    "            \"messages\": [\n",
    "                {\n",
    "                    \"role\": \"user\",\n",
    "                    \"content\": f\"\"\"Modifica il seguente testo in lingua italiana, per eseguire una corretta divisione del testo in frasi. Sostituisci i punti che dividono le frasi con il simbolo |\n",
    "Puoi eliminare tutte le frasi che iniziano con 'LEGGI ANCHE:' oppure 'Fonte:'\n",
    "Testo originale:\n",
    "{row['object_text']}\n",
    "\n",
    "Testo corretto:\"\"\"\n",
    "                }\n",
    "            ]\n",
    "        }\n",
    "        json_list.append(json_requests.copy())\n",
    "\n",
    "    # save jsonl file (one json per line)\n",
    "    with open(f'{folder}/requests_{iter}.jsonl', 'w') as f:\n",
    "        for item in json_list:\n",
    "            json.dump(item, f)\n",
    "            f.write('\\n')"
   ]
  },
  {
   "cell_type": "code",
   "execution_count": 12,
   "metadata": {},
   "outputs": [],
   "source": [
    "# save requests in jsonl files (otherwise 2.000.000 token will be exceeded with the full dataframe)\n",
    "start = 0\n",
    "step = 100\n",
    "requests_folder = '../data/processed/requests'\n",
    "while start < len(df):\n",
    "    df_temp = df.iloc[start:start + step]\n",
    "    save_requests(df_temp, start, requests_folder)\n",
    "    start += step"
   ]
  },
  {
   "cell_type": "code",
   "execution_count": 138,
   "metadata": {},
   "outputs": [],
   "source": [
    "# save data to parquet\n",
    "df.to_parquet('../data/processed/articles_data.parquet', engine = 'pyarrow', index = False)"
   ]
  },
  {
   "cell_type": "markdown",
   "metadata": {},
   "source": [
    "---\n",
    "# Cost Estimation (ChatGPT 3.5-Turbo)"
   ]
  },
  {
   "cell_type": "code",
   "execution_count": 139,
   "metadata": {},
   "outputs": [],
   "source": [
    "df['len'] = df['object_text'].apply(lambda x: len(x))"
   ]
  },
  {
   "cell_type": "code",
   "execution_count": 140,
   "metadata": {},
   "outputs": [],
   "source": [
    "# define prompt\n",
    "prompt_old = \"\"\"Modifica il seguente testo in lingua italiana, in modo tale da permettere una corretta divisione del testo in frasi. Sostituisci i punti che dividono le frasi con il simbolo |.\n",
    "Puoi eliminare tutte le frasi che iniziano con 'LEGGI ANCHE:' oppure 'Fonte:'\n",
    "Testo originale:\n",
    "\n",
    "Testo corretto:\"\"\""
   ]
  },
  {
   "cell_type": "code",
   "execution_count": 141,
   "metadata": {},
   "outputs": [],
   "source": [
    "# define prompt\n",
    "prompt = \"\"\"Modifica il seguente testo in lingua italiana, per eseguire una corretta divisione del testo in frasi. Sostituisci i punti che dividono le frasi con il simbolo |\n",
    "Puoi eliminare tutte le frasi che iniziano con 'LEGGI ANCHE:' oppure 'Fonte:'\n",
    "Testo originale:\n",
    "\n",
    "Testo corretto:\"\"\""
   ]
  },
  {
   "cell_type": "code",
   "execution_count": null,
   "metadata": {},
   "outputs": [],
   "source": [
    "input_price = (df['len'].sum() + len(df)*len(prompt)) / 4 * .5 / 1_000_000\n",
    "output_price = df['len'].sum() / 4 * 1.5 / 1_000_000\n",
    "\n",
    "print(f\"Average charcaters per article: {int(df['len'].sum()/len(df))}\")\n",
    "print(f\"Estimated tokens: {int(df['len'].sum()/4)}\")\n",
    "print(f\"Estimated pricing (input): {round(input_price, 2)}€\")\n",
    "print(f\"Estimated pricing (output): {round(output_price, 2)}€\")"
   ]
  }
 ],
 "metadata": {
  "kernelspec": {
   "display_name": "ai",
   "language": "python",
   "name": "python3"
  },
  "language_info": {
   "codemirror_mode": {
    "name": "ipython",
    "version": 3
   },
   "file_extension": ".py",
   "mimetype": "text/x-python",
   "name": "python",
   "nbconvert_exporter": "python",
   "pygments_lexer": "ipython3",
   "version": "3.11.5"
  }
 },
 "nbformat": 4,
 "nbformat_minor": 2
}
