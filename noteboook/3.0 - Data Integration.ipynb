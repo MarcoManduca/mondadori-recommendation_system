{
 "cells": [
  {
   "cell_type": "markdown",
   "metadata": {},
   "source": [
    "# 3.0 - Data Integration"
   ]
  },
  {
   "cell_type": "code",
   "execution_count": 1,
   "metadata": {},
   "outputs": [],
   "source": [
    "import os\n",
    "import nltk\n",
    "import pathlib\n",
    "import pandas as pd\n",
    "\n",
    "in_path = pathlib.Path('../data/processed/responses')"
   ]
  },
  {
   "cell_type": "code",
   "execution_count": 2,
   "metadata": {},
   "outputs": [],
   "source": [
    "df_articles = pd.read_parquet('../data/processed/articles_data.parquet', engine = 'pyarrow')"
   ]
  },
  {
   "cell_type": "code",
   "execution_count": 3,
   "metadata": {},
   "outputs": [],
   "source": [
    "df_responses = pd.DataFrame()\n",
    "for _file in os.listdir(in_path):\n",
    "    if _file.endswith('.jsonl'):\n",
    "        f_name = os.path.join(in_path, _file)\n",
    "        df_temp = pd.read_json(f_name, lines=True)\n",
    "        df_responses = pd.concat([df_responses, df_temp], axis = 0).reset_index(drop = True)"
   ]
  },
  {
   "cell_type": "code",
   "execution_count": 4,
   "metadata": {},
   "outputs": [],
   "source": [
    "df_all = df_articles.merge(df_responses, left_on = 'id', right_on = 'custom_id', how = 'left', suffixes = ('', '_y'))"
   ]
  },
  {
   "cell_type": "code",
   "execution_count": 5,
   "metadata": {},
   "outputs": [],
   "source": [
    "df_all = df_all[df_all['custom_id'].notnull()]"
   ]
  },
  {
   "cell_type": "code",
   "execution_count": 6,
   "metadata": {},
   "outputs": [],
   "source": [
    "def clean_text(row):\n",
    "    return row['body']['choices'][0]['message']['content']\n",
    "df_all['text cleaned'] = df_all['response'].apply(clean_text)"
   ]
  },
  {
   "cell_type": "code",
   "execution_count": 7,
   "metadata": {},
   "outputs": [],
   "source": [
    "# error in a date, try to fix it\n",
    "df_all.loc[df_all['object_pub_date'] == '0201-12-19 10:46:09', 'object_pub_date'] = '2021-12-19 10:46:09'"
   ]
  },
  {
   "cell_type": "code",
   "execution_count": 8,
   "metadata": {},
   "outputs": [],
   "source": [
    "df_all['title'] = df_all['object_title']\n",
    "df_all['category'] = df_all['domain_category']\n",
    "df_all['post type'] = df_all['object_post_type']\n",
    "df_all['url'] = df_all['object_url']\n",
    "df_all['text'] = df_all['object_text']\n",
    "df_all['links words rate'] = df_all['links_words_rate']\n",
    "df_all['publication date'] = pd.to_datetime(df_all['object_pub_date'], format = '%Y-%m-%d %H:%M:%S').dt.date"
   ]
  },
  {
   "cell_type": "code",
   "execution_count": 223,
   "metadata": {},
   "outputs": [],
   "source": [
    "def clean_text_gpt(row):\n",
    "    text_chunked = [content.strip() for content in row.replace('? ', '? |').replace('\\n', '|').replace('\\r', '|').replace('\\t', '|').replace('. ', ' | ').split('|') if content]\n",
    "    return [sentence for sentence in text_chunked if sentence]"
   ]
  },
  {
   "cell_type": "code",
   "execution_count": 9,
   "metadata": {},
   "outputs": [],
   "source": [
    "def clean_text_nltk(row):\n",
    "    sent_text = row.replace('|', ' . ')\n",
    "    sent_text = nltk.sent_tokenize(sent_text)\n",
    "    return sent_text"
   ]
  },
  {
   "cell_type": "code",
   "execution_count": 10,
   "metadata": {},
   "outputs": [],
   "source": [
    "# add new columns with the text chunked by sentence\n",
    "df_all['text chunked'] = df_all['text cleaned'].apply(lambda x: clean_text_nltk(x))"
   ]
  },
  {
   "cell_type": "code",
   "execution_count": 11,
   "metadata": {},
   "outputs": [
    {
     "name": "stdout",
     "output_type": "stream",
     "text": [
      "8 [657, 1127, 11760, 13023, 25356, 25359, 27359, 27642]\n"
     ]
    }
   ],
   "source": [
    "count = 0\n",
    "indexes = []\n",
    "for _, row in df_all.iterrows():\n",
    "    if len(row['text chunked']) == 1:\n",
    "        count += 1\n",
    "        indexes.append(_)\n",
    "print(count, indexes)"
   ]
  },
  {
   "cell_type": "code",
   "execution_count": 12,
   "metadata": {},
   "outputs": [],
   "source": [
    "# remove rows with only one sentence (video, photogallery, file download). no text\n",
    "df_all = df_all.drop(indexes, axis = 0)"
   ]
  },
  {
   "cell_type": "code",
   "execution_count": 14,
   "metadata": {},
   "outputs": [],
   "source": [
    "df_cleaned = df_all[[\n",
    "    'id', 'title', 'publication date',\n",
    "    'category', 'post type', 'domain','url', \n",
    "    'topics','links words rate', \n",
    "    'text', 'text cleaned', 'text chunked']]"
   ]
  },
  {
   "cell_type": "code",
   "execution_count": 26,
   "metadata": {},
   "outputs": [],
   "source": [
    "df_cleaned.to_parquet('../data/processed/cleaned_data.parquet', engine = 'pyarrow', index = False)"
   ]
  }
 ],
 "metadata": {
  "kernelspec": {
   "display_name": "ai",
   "language": "python",
   "name": "python3"
  },
  "language_info": {
   "codemirror_mode": {
    "name": "ipython",
    "version": 3
   },
   "file_extension": ".py",
   "mimetype": "text/x-python",
   "name": "python",
   "nbconvert_exporter": "python",
   "pygments_lexer": "ipython3",
   "version": "3.11.5"
  }
 },
 "nbformat": 4,
 "nbformat_minor": 2
}
